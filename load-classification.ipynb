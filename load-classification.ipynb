{
 "cells": [
  {
   "cell_type": "markdown",
   "id": "ce7be889-5310-475a-b02f-f6f7bcc3606f",
   "metadata": {},
   "source": [
    "# Perform exploratory data analysis (EDA)\n"
   ]
  },
  {
   "cell_type": "code",
   "execution_count": null,
   "id": "8167baf8-644f-4656-9223-0ff26b11109d",
   "metadata": {},
   "outputs": [],
   "source": [
    "import pandas as pd\n",
    "import numpy as np \n",
    "import pandas as pd \n",
    "import matplotlib.pyplot as plt\n",
    "import seaborn as sns\n",
    "from sklearn.metrics import confusion_matrix, classification_report, accuracy_score\n",
    "from sklearn.preprocessing import StandardScaler, LabelEncoder, OneHotEncoder\n",
    "from sklearn.impute import KNNImputer\n",
    "from sklearn.model_selection import train_test_split, GridSearchCV, RandomizedSearchCV\n",
    "from sklearn.neighbors import KNeighborsClassifier  # K-Nearest Neighbors\n",
    "from sklearn.tree import DecisionTreeClassifier  # Decision Trees\n",
    "from sklearn.ensemble import RandomForestClassifier  # Random Forests\n",
    "from sklearn.linear_model import LogisticRegression  # Logistic Regression\n",
    "\n",
    "pd.set_option('display.max_columns', None)"
   ]
  },
  {
   "cell_type": "code",
   "execution_count": null,
   "id": "e162d1f0-06f9-485b-818e-5512df2634ea",
   "metadata": {},
   "outputs": [],
   "source": [
    "df_initial = pd.read_csv('./Loan_Default.csv')\n",
    "\n",
    "df_initial.head()"
   ]
  },
  {
   "cell_type": "code",
   "execution_count": null,
   "id": "4744f01c-ba9d-44d9-bb09-0fe35588d8d8",
   "metadata": {},
   "outputs": [],
   "source": [
    "df_initial.describe()"
   ]
  },
  {
   "cell_type": "code",
   "execution_count": null,
   "id": "bca9609d-c7f9-444a-870f-0f7b54af7b66",
   "metadata": {
    "scrolled": true
   },
   "outputs": [],
   "source": [
    "df_initial.info()"
   ]
  },
  {
   "cell_type": "markdown",
   "id": "8424add8-f621-4a7d-90a7-b7aa405c42c9",
   "metadata": {},
   "source": [
    "# Handle missing values and perform any necessary data preprocessing."
   ]
  },
  {
   "cell_type": "markdown",
   "id": "cd9a7e87-f059-40ac-bc6a-63ba363d5c49",
   "metadata": {},
   "source": [
    "## Handle Null value"
   ]
  },
  {
   "cell_type": "code",
   "execution_count": null,
   "id": "92f74229-c357-4977-b204-b0ba6f803dff",
   "metadata": {},
   "outputs": [],
   "source": [
    "df_initial.isna().sum()"
   ]
  },
  {
   "cell_type": "markdown",
   "id": "99468fc5-fa05-42ab-9daf-9c723fc0cc36",
   "metadata": {},
   "source": [
    "## Visualize Null data"
   ]
  },
  {
   "cell_type": "code",
   "execution_count": null,
   "id": "47e8fe9d-81c8-4d38-842d-78d33a80c6f7",
   "metadata": {},
   "outputs": [],
   "source": [
    "df_initial.isna().sum().plot.bar()\n",
    "plt.show()"
   ]
  },
  {
   "cell_type": "markdown",
   "id": "09af3562-678b-480b-a09d-b2412d7321f7",
   "metadata": {},
   "source": [
    "## Remove cloumn ID and Year"
   ]
  },
  {
   "cell_type": "code",
   "execution_count": null,
   "id": "93fd8777-a0dd-406f-a2a7-3d0bbba1fab2",
   "metadata": {},
   "outputs": [],
   "source": [
    "df_initial = df_initial.drop([\"ID\",\"year\"], axis = \"columns\")\n",
    "df_initial.head()"
   ]
  },
  {
   "cell_type": "code",
   "execution_count": null,
   "id": "ff23ca99-149b-4dba-a113-88bedbc47666",
   "metadata": {},
   "outputs": [],
   "source": [
    "df_initial.nunique().sum"
   ]
  },
  {
   "cell_type": "code",
   "execution_count": null,
   "id": "5dce465f-b89a-40b2-89aa-17406868c2eb",
   "metadata": {},
   "outputs": [],
   "source": [
    "cate_vars = []\n",
    "num_vars = []\n",
    "for i in df_initial.columns:\n",
    "    if(df_initial[i].dtype == \"object\"):\n",
    "        cate_vars.append(i)\n",
    "    else:\n",
    "        num_vars.append(i)\n",
    "print(\"Categorical Variables:\\n\",cate_vars,\"\\n\")\n",
    "print(\"Numerical Variables:\\n\",num_vars,\"\\n\")"
   ]
  },
  {
   "cell_type": "markdown",
   "id": "f314ed9b-f794-48d4-9b96-56bd6845195e",
   "metadata": {},
   "source": [
    "imputing numerical vars"
   ]
  },
  {
   "cell_type": "code",
   "execution_count": null,
   "id": "29157664-586a-431a-a1c5-a2aab8ac6148",
   "metadata": {},
   "outputs": [],
   "source": [
    "df_num = df_initial[num_vars]\n",
    "knn = KNNImputer(n_neighbors = 3)\n",
    "knn.fit(df_num)\n",
    "X = knn.fit_transform(df_num)"
   ]
  },
  {
   "cell_type": "code",
   "execution_count": null,
   "id": "915d7367-1cf0-4186-ab68-902c44e36418",
   "metadata": {},
   "outputs": [],
   "source": [
    "df_num = pd.DataFrame(X, columns=num_vars)\n",
    "df_num.isna().sum()"
   ]
  },
  {
   "cell_type": "markdown",
   "id": "a4980a9f-faf4-4a46-8fcd-1c165731a930",
   "metadata": {},
   "source": [
    "## Imputing categorical vars"
   ]
  },
  {
   "cell_type": "code",
   "execution_count": null,
   "id": "bd2c2d9f-f87e-4509-870d-0fc08061bee3",
   "metadata": {},
   "outputs": [],
   "source": [
    "df_cat = df[cate_vars]\n",
    "for i in cate_vars:\n",
    "    mode = df[i].mode()\n",
    "    mode = mode[0]\n",
    "    df_cat[i].fillna(value=mode, inplace=True)\n",
    "\n",
    "df_cat.isna().sum()"
   ]
  },
  {
   "cell_type": "code",
   "execution_count": null,
   "id": "ef78de1c-38a0-46c2-bf2d-00b7c5cb06fd",
   "metadata": {},
   "outputs": [],
   "source": [
    "df_full = pd.concat([df_num, df_cat], axis=1, join='inner')\n",
    "df_full.isna().sum()"
   ]
  },
  {
   "cell_type": "raw",
   "id": "5c484d24-ddbf-4a7d-9c43-4f893b3706df",
   "metadata": {},
   "source": [
    "outlier detection and removal"
   ]
  },
  {
   "cell_type": "code",
   "execution_count": null,
   "id": "f80789a2-432c-40cb-801c-f1e658b252ac",
   "metadata": {},
   "outputs": [],
   "source": [
    "df_full.plot(kind=\"box\",subplots=True,layout=(7,2),figsize=(20,20));"
   ]
  },
  {
   "cell_type": "markdown",
   "id": "b63c58b6-f38d-425b-a47b-da0aa3502a5a",
   "metadata": {},
   "source": [
    "## Drop the outlier"
   ]
  },
  {
   "cell_type": "code",
   "execution_count": null,
   "id": "2febd94b-11bc-474e-ae41-3a8a9e9f382a",
   "metadata": {},
   "outputs": [],
   "source": [
    "df_full = def drop_outliers(df, field_name):\n",
    "    iqr = 1.5 * (np.percentile(df[field_name], 75) - np.percentile(df[field_name], 25))\n",
    "    upper_bound = iqr + np.percentile(df[field_name], 75)\n",
    "    lower_bound = np.percentile(df[field_name], 25) - iqr\n",
    "\n",
    "    if ((df[field_name] > upper_bound) | (df[field_name] < lower_bound)).empty:\n",
    "        print(\"No outliers to drop.\")\n",
    "        return\n",
    "\n",
    "    df.drop(df[(df[field_name] > upper_bound) | (df[field_name] < lower_bound)].index, inplace=True)\n",
    "\n",
    "drop_outliers(df_full, \"loan_amount\")\n",
    "drop_outliers(df_full, \"rate_of_interest\")\n",
    "drop_outliers(df_full, \"Interest_rate_spread\")\n",
    "drop_outliers(df_full, \"Upfront_charges\")\n",
    "drop_outliers(df_full, \"property_value\")\n",
    "drop_outliers(df_full, \"income\")\n",
    "drop_outliers(df_full, \"LTV\")\n",
    "drop_outliers(df_full, \"Status\")\n",
    "drop_outliers(df_full, \"term\")\n",
    "drop_outliers(df_full, \"dtir1\")pd.concat([df_num, df_cat], axis=1, join='inner')\n",
    "df_full.isna().sum()def drop_outliers(df, field_name):\n",
    "    iqr = 1.5 * (np.percentile(df[field_name], 75) - np.percentile(df[field_name], 25))\n",
    "    upper_bound = iqr + np.percentile(df[field_name], 75)\n",
    "    lower_bound = np.percentile(df[field_name], 25) - iqr\n",
    "\n",
    "    if ((df[field_name] > upper_bound) | (df[field_name] < lower_bound)).empty:\n",
    "        print(\"No outliers to drop.\")\n",
    "        return\n",
    "\n",
    "    df.drop(df[(df[field_name] > upper_bound) | (df[field_name] < lower_bound)].index, inplace=True)\n",
    "\n",
    "drop_outliers(df_full, \"loan_amount\")\n",
    "drop_outliers(df_full, \"rate_of_interest\")\n",
    "drop_outliers(df_full, \"Interest_rate_spread\")\n",
    "drop_outliers(df_full, \"Upfront_charges\")\n",
    "drop_outliers(df_full, \"property_value\")\n",
    "drop_outliers(df_full, \"income\")\n",
    "drop_outliers(df_full, \"LTV\")\n",
    "drop_outliers(df_full, \"Status\")\n",
    "drop_outliers(df_full, \"term\")\n",
    "drop_outliers(df_full, \"dtir1\")"
   ]
  },
  {
   "cell_type": "markdown",
   "id": "2d7c5e8a-d4cf-4943-8863-e4bf9a1142b7",
   "metadata": {},
   "source": [
    "## Encoding Categorical Variables"
   ]
  },
  {
   "cell_type": "code",
   "execution_count": null,
   "id": "86663614-be68-4255-8f67-ad0b265d2d75",
   "metadata": {},
   "outputs": [],
   "source": [
    "print(df_full[cat_vars].nunique().sum)"
   ]
  },
  {
   "cell_type": "code",
   "execution_count": null,
   "id": "32cc291c-756b-49e4-8009-6e8f17f26a07",
   "metadata": {},
   "outputs": [],
   "source": [
    "label = LabelEncoder()\n",
    "for i in cat_vars:\n",
    "    df_full[i] = label.fit_transform(df_full[i])"
   ]
  },
  {
   "cell_type": "code",
   "execution_count": null,
   "id": "ee113d59-46df-4c5e-8351-966d038824c2",
   "metadata": {},
   "outputs": [],
   "source": [
    "df_full.info()"
   ]
  },
  {
   "cell_type": "markdown",
   "id": "2445c82b-6bf9-4263-8d9b-8e25880dc16b",
   "metadata": {},
   "source": [
    "# Train test split"
   ]
  },
  {
   "cell_type": "code",
   "execution_count": null,
   "id": "66484f06-7766-4578-95b4-8d80c8249476",
   "metadata": {},
   "outputs": [],
   "source": [
    "train_set, test_set = train_test_split(df_full, test_size=0.2, random_state=42)\n",
    "\n",
    "y_train = train_set['Status']\n",
    "X_train = train_set.drop(columns=['Status'])\n",
    "y_test = test_set['Status']\n",
    "X_test = test_set.drop(columns=['Status'])"
   ]
  },
  {
   "cell_type": "markdown",
   "id": "8033f6de-a5dc-4b2d-97d4-24ae6e1dd418",
   "metadata": {},
   "source": [
    "## Build Classification Model using Random Forest, KNN, Decision Tree, Logistic Regression"
   ]
  },
  {
   "cell_type": "code",
   "execution_count": null,
   "id": "07eab7ef-8378-4eb3-a81c-20247c0ca1ea",
   "metadata": {},
   "outputs": [],
   "source": [
    "clf = RandomForestClassifier() # Random Forest\n",
    "knn = KNeighborsClassifier()  # K-Nearest Neighbors\n",
    "dct = DecisionTreeClassifier()  # Decision Trees\n",
    "lr = LogisticRegression()  # Logistic Regression"
   ]
  },
  {
   "cell_type": "code",
   "execution_count": null,
   "id": "f2067c52-07ca-49ab-b16b-fefe5e284bd1",
   "metadata": {},
   "outputs": [],
   "source": [
    "clf.fit(X_train, y_train)\n",
    "y_pred_clf = clf.predict(X_test)\n",
    "print('Accuracy :',accuracy_score(y_test, y_pred_clf))\n",
    "print(\"\\n\")\n",
    "print(classification_report(y_test, y_pred_clf))"
   ]
  },
  {
   "cell_type": "code",
   "execution_count": null,
   "id": "8ea2514a-df93-407d-9b8a-433f75f30887",
   "metadata": {},
   "outputs": [],
   "source": [
    "knn.fit(X_train, y_train)\n",
    "y_pred_knn = knn.predict(X_test)\n",
    "print('Accuracy :',accuracy_score(y_test, y_pred_knn))\n",
    "print(\"\\n\")\n",
    "print(classification_report(y_test, y_pred_knn))"
   ]
  },
  {
   "cell_type": "code",
   "execution_count": null,
   "id": "f615c3a0-c3a4-4641-83bc-fb0ecb7beae9",
   "metadata": {},
   "outputs": [],
   "source": [
    "dct.fit(X_train, y_train)\n",
    "y_pred_dct = dct.predict(X_test)\n",
    "print('Accuracy :',accuracy_score(y_test, y_pred_dct))\n",
    "print(\"\\n\")\n",
    "print(classification_report(y_test, y_pred_dct))"
   ]
  },
  {
   "cell_type": "code",
   "execution_count": null,
   "id": "e488900c-4db8-4729-9a09-d3c434f47915",
   "metadata": {},
   "outputs": [],
   "source": [
    "lr.fit(X_train, y_train)\n",
    "y_pred_lr = lr.predict(X_test)\n",
    "print('Accuracy :',accuracy_score(y_test, y_pred_lr))\n",
    "print(\"\\n\")\n",
    "print(classification_report(y_test, y_pred_lr))"
   ]
  },
  {
   "cell_type": "markdown",
   "id": "aab2e0c7-cee3-4d13-81c6-09070ba5a1e9",
   "metadata": {},
   "source": [
    "## Scores Compilation and Summary result"
   ]
  },
  {
   "cell_type": "code",
   "execution_count": null,
   "id": "e3e4b6ad-73f7-412d-9962-1830208f06ef",
   "metadata": {},
   "outputs": [],
   "source": [
    "from sklearn.metrics import accuracy_score, precision_score, recall_score, f1_score\n",
    "\n",
    "trained_models = [clf, knn, dct, lr]\n",
    "model_names = [\"RandomForest\",\"K-Nearest Neighbors\",\"Decision Trees\",\"Logistic Regression\"]\n",
    "model_list = list(zip(model_names, trained_models))\n",
    "accuracy_scores = []\n",
    "precision_scores = []\n",
    "recall_scores = []\n",
    "f1_scores = []\n",
    "\n",
    "for model_name, model in model_list:\n",
    "    y_pred = model.predict(X_test)\n",
    "    \n",
    "    accuracy_scores.append(accuracy_score(y_test, y_pred))\n",
    "    precision_scores.append(precision_score(y_test, y_pred))\n",
    "    recall_scores.append(recall_score(y_test, y_pred))\n",
    "    f1_scores.append(f1_score(y_test, y_pred))\n",
    "\n",
    "metrics_df = pd.DataFrame({\n",
    "    'Model': model_names,\n",
    "    'Accuracy': accuracy_scores,\n",
    "    'Precision': precision_scores,\n",
    "    'Recall': recall_scores,\n",
    "    'F1-Score': f1_scores\n",
    "})\n",
    "\n",
    "metrics_df"
   ]
  }
 ],
 "metadata": {
  "kernelspec": {
   "display_name": "Python 3 (ipykernel)",
   "language": "python",
   "name": "python3"
  },
  "language_info": {
   "codemirror_mode": {
    "name": "ipython",
    "version": 3
   },
   "file_extension": ".py",
   "mimetype": "text/x-python",
   "name": "python",
   "nbconvert_exporter": "python",
   "pygments_lexer": "ipython3",
   "version": "3.12.1"
  }
 },
 "nbformat": 4,
 "nbformat_minor": 5
}
